{
 "cells": [
  {
   "cell_type": "code",
   "execution_count": 2,
   "metadata": {},
   "outputs": [
    {
     "name": "stdout",
     "output_type": "stream",
     "text": [
      "Max Pos: 0\n",
      "Min Pos:  -10705306\n",
      "Mode of Operation:  1\n",
      "STATE REGISTER:  64\n",
      "State register after shutdown:  33\n",
      "State register after switch on and enable operation:  1079\n"
     ]
    }
   ],
   "source": [
    "import cetoniSerial as cs\n",
    "S1 = cs.Syringe(\"/dev/ttyUSB1\", volume =1000)"
   ]
  },
  {
   "cell_type": "code",
   "execution_count": 3,
   "metadata": {},
   "outputs": [
    {
     "name": "stdout",
     "output_type": "stream",
     "text": [
      "Max Pos: 0\n",
      "Min Pos:  -10705306\n",
      "Mode of Operation:  1\n",
      "STATE REGISTER:  64\n",
      "State register after shutdown:  33\n",
      "State register after switch on and enable operation:  1079\n"
     ]
    }
   ],
   "source": [
    "S2 = cs.Syringe(\"\", volume = 1000, ser=S1.ser, node=3)"
   ]
  },
  {
   "cell_type": "code",
   "execution_count": 4,
   "metadata": {},
   "outputs": [],
   "source": [
    "S1.toInput()\n",
    "S1.setFlowRate(20) # in uL / s\n",
    "S1.positionAbsolute(0) # this empties the syringe"
   ]
  },
  {
   "cell_type": "code",
   "execution_count": 5,
   "metadata": {},
   "outputs": [],
   "source": [
    "S2.toOutput()\n",
    "S2.setFlowRate(100)\n",
    "S2.positionAbsolute(0)"
   ]
  },
  {
   "cell_type": "code",
   "execution_count": 6,
   "metadata": {},
   "outputs": [
    {
     "name": "stdout",
     "output_type": "stream",
     "text": [
      "-100\n"
     ]
    }
   ],
   "source": [
    "# use the commands below for fast repeated dispensing or aspirating of the same volume\n",
    "# and repeat only executePositionRelative() for every dispense / aspirate action\n",
    "S1.currentPosition = S1.readCurrentPosition()\n",
    "S1.configurePositionRelativeByVolume(-100)\n",
    "S1.executePositionRelative()"
   ]
  },
  {
   "cell_type": "code",
   "execution_count": 7,
   "metadata": {},
   "outputs": [],
   "source": [
    "S1.executePositionRelative()"
   ]
  },
  {
   "cell_type": "code",
   "execution_count": 8,
   "metadata": {},
   "outputs": [
    {
     "name": "stdout",
     "output_type": "stream",
     "text": [
      "-100\n",
      "50\n"
     ]
    }
   ],
   "source": [
    "# for aspirate / dispense action\n",
    "S2.toInput()\n",
    "S2.aspirate(100)\n",
    "\n",
    "S2.toOutput()\n",
    "S2.dispense(50)"
   ]
  }
 ],
 "metadata": {
  "kernelspec": {
   "display_name": "Python 3",
   "language": "python",
   "name": "python3"
  },
  "language_info": {
   "codemirror_mode": {
    "name": "ipython",
    "version": 3
   },
   "file_extension": ".py",
   "mimetype": "text/x-python",
   "name": "python",
   "nbconvert_exporter": "python",
   "pygments_lexer": "ipython3",
   "version": "3.8.5"
  }
 },
 "nbformat": 4,
 "nbformat_minor": 4
}
